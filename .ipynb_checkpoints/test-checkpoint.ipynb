{
 "cells": [
  {
   "cell_type": "code",
   "execution_count": 1,
   "metadata": {},
   "outputs": [
    {
     "ename": "ModuleNotFoundError",
     "evalue": "No module named 'Sig_method'",
     "output_type": "error",
     "traceback": [
      "\u001b[1;31m---------------------------------------------------------------------------\u001b[0m",
      "\u001b[1;31mModuleNotFoundError\u001b[0m                       Traceback (most recent call last)",
      "\u001b[1;32m<ipython-input-1-d3f44466792a>\u001b[0m in \u001b[0;36m<module>\u001b[1;34m\u001b[0m\n\u001b[0;32m      2\u001b[0m \u001b[1;32mimport\u001b[0m \u001b[0mnumpy\u001b[0m \u001b[1;32mas\u001b[0m \u001b[0mnp\u001b[0m\u001b[1;33m\u001b[0m\u001b[1;33m\u001b[0m\u001b[0m\n\u001b[0;32m      3\u001b[0m \u001b[1;32mimport\u001b[0m \u001b[0msignatory\u001b[0m\u001b[1;33m\u001b[0m\u001b[1;33m\u001b[0m\u001b[0m\n\u001b[1;32m----> 4\u001b[1;33m \u001b[1;32mimport\u001b[0m \u001b[0mSig_method\u001b[0m\u001b[1;33m\u001b[0m\u001b[1;33m\u001b[0m\u001b[0m\n\u001b[0m",
      "\u001b[1;31mModuleNotFoundError\u001b[0m: No module named 'Sig_method'"
     ]
    }
   ],
   "source": [
    "import tensorflow as tf\n",
    "import numpy as np\n",
    "import signatory\n",
    "import Sig_method"
   ]
  },
  {
   "cell_type": "code",
   "execution_count": null,
   "metadata": {},
   "outputs": [],
   "source": [
    "def kernel_for_signature(num_components, num_features, num_levels, num_functionals):\n",
    "    index2word = signatory.all_words(num_features, num_levels)\n",
    "    kernel = np.zeros(shape = [num_components, num_features, num_functionals])\n",
    "    for i,word in enumerate(index2word):\n",
    "        m = len(word)\n",
    "        start = int(m*(m-1)/2)\n",
    "        for j,axis in enumerate(word):\n",
    "            kernel[start + j,axis,i] = 1\n",
    "    return tf.constant(kernel, dtype = 'float32')"
   ]
  },
  {
   "cell_type": "code",
   "execution_count": null,
   "metadata": {},
   "outputs": [],
   "source": [
    "num_examples = 1\n",
    "len_examples = 100\n",
    "num_features = 2\n",
    "num_levels = 3\n",
    "index2word = signatory.all_words(num_features, num_levels)\n",
    "num_components = int(num_levels * (num_levels+1) / 2.)\n",
    "num_functionals = len(index2word)\n",
    "sequences = tf.random.normal(shape = [num_examples,len_examples,num_features])\n",
    "kernel = kernel_for_signature(num_components, num_features, num_levels, num_functionals)\n",
    "recursive_weights = False\n",
    "embedding_order=1\n",
    "bias=None\n",
    "reverse=False\n",
    "return_sequences=True\n",
    "mask=None"
   ]
  },
  {
   "cell_type": "code",
   "execution_count": null,
   "metadata": {},
   "outputs": [],
   "source": [
    "sig = low_rank_seq2tens(sequences, kernel, num_levels, embedding_order,\\\n",
    "                      recursive_weights, bias, reverse, return_sequences, mask)[0]\n",
    "sig = tf.reduce_sum(sig,axis = 1)"
   ]
  },
  {
   "cell_type": "code",
   "execution_count": null,
   "metadata": {},
   "outputs": [],
   "source": [
    "sig"
   ]
  },
  {
   "cell_type": "code",
   "execution_count": 179,
   "metadata": {},
   "outputs": [
    {
     "data": {
      "text/plain": [
       "TensorShape([1, 100, 2])"
      ]
     },
     "execution_count": 179,
     "metadata": {},
     "output_type": "execute_result"
    }
   ],
   "source": [
    "sequences.shape"
   ]
  },
  {
   "cell_type": "code",
   "execution_count": 2,
   "metadata": {},
   "outputs": [
    {
     "ename": "NameError",
     "evalue": "name 'Sig_method' is not defined",
     "output_type": "error",
     "traceback": [
      "\u001b[1;31m---------------------------------------------------------------------------\u001b[0m",
      "\u001b[1;31mNameError\u001b[0m                                 Traceback (most recent call last)",
      "\u001b[1;32m<ipython-input-2-2282458883b8>\u001b[0m in \u001b[0;36m<module>\u001b[1;34m\u001b[0m\n\u001b[1;32m----> 1\u001b[1;33m \u001b[0mx\u001b[0m \u001b[1;33m=\u001b[0m \u001b[0mSig_method\u001b[0m\u001b[1;33m.\u001b[0m\u001b[0msig_stream2\u001b[0m\u001b[1;33m(\u001b[0m\u001b[0msequences\u001b[0m\u001b[1;33m,\u001b[0m\u001b[0mnum_levels\u001b[0m\u001b[1;33m)\u001b[0m\u001b[1;33m[\u001b[0m\u001b[1;36m0\u001b[0m\u001b[1;33m,\u001b[0m\u001b[1;33m:\u001b[0m\u001b[1;33m,\u001b[0m\u001b[1;33m:\u001b[0m\u001b[1;33m]\u001b[0m\u001b[1;33m.\u001b[0m\u001b[0mnumpy\u001b[0m\u001b[1;33m(\u001b[0m\u001b[1;33m)\u001b[0m\u001b[1;33m\u001b[0m\u001b[1;33m\u001b[0m\u001b[0m\n\u001b[0m",
      "\u001b[1;31mNameError\u001b[0m: name 'Sig_method' is not defined"
     ]
    }
   ],
   "source": [
    "x = Sig_method.sig_stream2(sequences,num_levels)[0,:,:].numpy()"
   ]
  },
  {
   "cell_type": "code",
   "execution_count": 7,
   "metadata": {},
   "outputs": [],
   "source": [
    "def low_rank_seq2tens(sequences, kernel, num_levels, embedding_order=1,\\\n",
    "                      recursive_weights=False, bias=None, reverse=False, return_sequences=False, mask=None):\n",
    "    \"\"\"\n",
    "    Tensorflow implementation of the Low-rank Seq2Tens (LS2T) map\n",
    "    --------------------------------------------------\n",
    "    Args\n",
    "    ----\n",
    "    :sequences: - a tensor of sequences of shape (num_examples, len_examples, num_features)\n",
    "    :kernel: - a tensor of component vectors of rank-1 weight tensors of shape (num_components, num_features, num_functionals)\n",
    "    :num_levels: - an int scalar denoting the cutoff degree in the features themselves (must be consistent with the 'num_components' dimension of 'kernel')\n",
    "    :embedding_order: - an int scalar denoting the cutoff degree in the algebraic embedding\n",
    "    :recursive_weights: - whether the rank-1 weight twensors are contructed in a recursive way (must be consistent with the shape of 'kernel')\n",
    "    :bias: - a tensor of biases of shape (num_components, num_functionals)\n",
    "    :reverse: - only changes the results with 'return_sequences=True', determines whether the output sequences are constructed by moving the starting point or ending point of subsequences\n",
    "    \"\"\"\n",
    "    \n",
    "    num_sequences, len_sequences, num_features = tf.unstack(tf.shape(sequences))\n",
    "\n",
    "    num_components = int(num_levels * (num_levels+1) / 2.) if not recursive_weights else num_levels\n",
    "    \n",
    "    num_functionals = tf.shape(kernel)[-1]\n",
    "        \n",
    "    M = tf.matmul(tf.reshape(sequences, [1, -1, num_features]), kernel)\n",
    "        \n",
    "    M = tf.reshape(M, [num_components, num_sequences, len_sequences, num_functionals])\n",
    "    \n",
    "    if bias is not None:\n",
    "        M += bias[:, None, None, :]\n",
    "    \n",
    "    if mask is not None:\n",
    "        M = tf.where(mask[None, :, :, None], M, tf.zeros_like(M))\n",
    "\n",
    "    if embedding_order == 1:\n",
    "        if recursive_weights:\n",
    "            return _low_rank_seq2tens_first_order_embedding_recursive_weights(M, num_levels, reverse=reverse, return_sequences=return_sequences)\n",
    "        else:\n",
    "            return _low_rank_seq2tens_first_order_embedding_indep_weights(M, num_levels, reverse=reverse, return_sequences=return_sequences)\n",
    "    else:\n",
    "        if recursive_weights:\n",
    "            return _low_rank_seq2tens_higher_order_embedding_recursive_weights(M, num_levels, embedding_order, reverse=reverse, return_sequences=return_sequences)\n",
    "        else:\n",
    "            return _low_rank_seq2tens_higher_order_embedding_indep_weights(M, num_levels, embedding_order, reverse=reverse, return_sequences=return_sequences)\n"
   ]
  },
  {
   "cell_type": "code",
   "execution_count": null,
   "metadata": {},
   "outputs": [],
   "source": [
    "def _low_rank_seq2tens_first_order_embedding_recursive_weights(M, num_levels, reverse=False, return_sequences=False):\n",
    "    \n",
    "    if return_sequences:\n",
    "        Y = [tf.cumsum(M[0], reverse=reverse, axis=1)]\n",
    "    else:\n",
    "        Y = [tf.reduce_sum(M[0], axis=1)]\n",
    "\n",
    "    R = M[0]\n",
    "    for m in range(1, num_levels):\n",
    "        R = M[m] * tf.cumsum(R, exclusive=True, reverse=reverse, axis=1)\n",
    "        \n",
    "        if return_sequences:\n",
    "            Y.append(tf.cumsum(R, reverse=reverse, axis=1))\n",
    "        else:\n",
    "            Y.append(tf.reduce_sum(R, axis=1))\n",
    "\n",
    "    return tf.stack(Y, axis=-2)\n",
    "    \n"
   ]
  },
  {
   "cell_type": "code",
   "execution_count": 3,
   "metadata": {},
   "outputs": [],
   "source": [
    "def _low_rank_seq2tens_first_order_embedding_indep_weights(M, num_levels, reverse=False, return_sequences=False):\n",
    "    \n",
    "    if return_sequences:\n",
    "        Y = [tf.cumsum(M[0], reverse=reverse, axis=1)]\n",
    "    else:\n",
    "        Y = [tf.reduce_sum(M[0], axis=1)]\n",
    "\n",
    "    k = 1\n",
    "    for m in range(1, num_levels):\n",
    "        R = M[k]\n",
    "        k += 1\n",
    "        for i in range(1, m+1):\n",
    "            R = M[k] *  tf.cumsum(R, exclusive=True, reverse=reverse, axis=1)\n",
    "            k += 1\n",
    "        if return_sequences:\n",
    "            Y.append(tf.cumsum(R, reverse=reverse, axis=1))\n",
    "        else:\n",
    "            Y.append(tf.reduce_sum(R, axis=1))\n",
    "    \n",
    "    return tf.stack(Y, axis=-2)"
   ]
  }
 ],
 "metadata": {
  "kernelspec": {
   "display_name": "Python [conda env:gpflow2] *",
   "language": "python",
   "name": "conda-env-gpflow2-py"
  },
  "language_info": {
   "codemirror_mode": {
    "name": "ipython",
    "version": 3
   },
   "file_extension": ".py",
   "mimetype": "text/x-python",
   "name": "python",
   "nbconvert_exporter": "python",
   "pygments_lexer": "ipython3",
   "version": "3.8.5"
  }
 },
 "nbformat": 4,
 "nbformat_minor": 4
}
