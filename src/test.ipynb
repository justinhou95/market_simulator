{
 "cells": [
  {
   "cell_type": "code",
   "execution_count": 4,
   "metadata": {},
   "outputs": [],
   "source": [
    "import numpy as np\n",
    "import tensorflow as tf\n",
    "import tensorflow.keras as keras\n",
    "tf.keras.backend.set_floatx('float64')"
   ]
  },
  {
   "cell_type": "code",
   "execution_count": 8,
   "metadata": {},
   "outputs": [
    {
     "name": "stdout",
     "output_type": "stream",
     "text": [
      "tf.Tensor(\n",
      "[[0. 0.]\n",
      " [0. 0.]\n",
      " [0. 0.]\n",
      " ...\n",
      " [0. 0.]\n",
      " [0. 0.]\n",
      " [0. 0.]], shape=(1000, 2), dtype=float64)\n",
      "tf.Tensor(\n",
      "[[0. 0.]\n",
      " [0. 0.]\n",
      " [0. 0.]\n",
      " ...\n",
      " [0. 0.]\n",
      " [0. 0.]\n",
      " [0. 0.]], shape=(1000, 2), dtype=float64)\n",
      "tf.Tensor(\n",
      "[[0. 0.]\n",
      " [0. 0.]\n",
      " [0. 0.]\n",
      " ...\n",
      " [0. 0.]\n",
      " [0. 0.]\n",
      " [0. 0.]], shape=(1000, 2), dtype=float64)\n",
      "tf.Tensor(\n",
      "[[ 8.88178420e-16  1.11022302e-15]\n",
      " [ 4.44089210e-16 -4.99600361e-16]\n",
      " [ 0.00000000e+00  4.44089210e-16]\n",
      " ...\n",
      " [-1.11022302e-16 -6.66133815e-16]\n",
      " [-8.88178420e-16  3.33066907e-16]\n",
      " [ 0.00000000e+00  0.00000000e+00]], shape=(1000, 2), dtype=float64)\n",
      "[[-4.44089210e-16  1.11022302e-15]\n",
      " [ 4.44089210e-16 -5.93275429e-16]\n",
      " [-1.77635684e-15  0.00000000e+00]\n",
      " ...\n",
      " [ 8.88178420e-16 -1.11022302e-15]\n",
      " [-2.22044605e-15  1.11022302e-16]\n",
      " [-2.22044605e-16  2.22044605e-16]]\n"
     ]
    }
   ],
   "source": [
    "dim1 = 300\n",
    "dim2 = 2\n",
    "x_tf = tf.random.normal([1000,dim1],dtype ='float64')\n",
    "x = x_tf.numpy()\n",
    "inputs = keras.Input(shape=(dim1))\n",
    "l = tf.keras.layers.Dense(units = dim2, activation='linear')\n",
    "outputs = l(inputs)\n",
    "model = tf.keras.Model(inputs = inputs, outputs = outputs)\n",
    "w,b = model.get_weights()\n",
    "print(model.call(x_tf) - model(x_tf))\n",
    "print(model(x_tf) - model(x))\n",
    "print(model(x) - x_tf@w + b)\n",
    "print(model(x) - (x@w + b))\n",
    "print(model.predict(x) - (x@w + b))"
   ]
  },
  {
   "cell_type": "code",
   "execution_count": 1,
   "metadata": {},
   "outputs": [
    {
     "name": "stdout",
     "output_type": "stream",
     "text": [
      "[[ 1.50990331e-14 -9.32587341e-15]\n",
      " [ 0.00000000e+00 -1.77635684e-15]\n",
      " [-5.32907052e-15  8.88178420e-16]\n",
      " ...\n",
      " [ 0.00000000e+00  0.00000000e+00]\n",
      " [ 0.00000000e+00 -3.55271368e-15]\n",
      " [-6.21724894e-15 -1.77635684e-15]]\n"
     ]
    }
   ],
   "source": [
    "import numpy as np\n",
    "import tensorflow as tf\n",
    "a_tf = tf.random.normal([1000,300],dtype = 'float64')\n",
    "a = a_tf.numpy()\n",
    "b_tf = tf.random.normal([300,2],dtype = 'float64')\n",
    "b = b_tf.numpy()\n",
    "c_tf = tf.linalg.matmul(a_tf,b_tf)\n",
    "c = np.matmul(a,b)\n",
    "print(c_tf.numpy() - c)"
   ]
  }
 ],
 "metadata": {
  "kernelspec": {
   "display_name": "Python [conda env:gpflow2] *",
   "language": "python",
   "name": "conda-env-gpflow2-py"
  },
  "language_info": {
   "codemirror_mode": {
    "name": "ipython",
    "version": 3
   },
   "file_extension": ".py",
   "mimetype": "text/x-python",
   "name": "python",
   "nbconvert_exporter": "python",
   "pygments_lexer": "ipython3",
   "version": "3.8.5"
  }
 },
 "nbformat": 4,
 "nbformat_minor": 4
}
