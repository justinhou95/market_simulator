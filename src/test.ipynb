{
 "cells": [
  {
   "cell_type": "code",
   "execution_count": 2,
   "metadata": {},
   "outputs": [],
   "source": [
    "import numpy as np\n",
    "from esig import tosig\n",
    "from tqdm.auto import tqdm\n",
    "from scipy.optimize import brentq\n",
    "from joblib import Parallel, delayed\n",
    "import ast\n"
   ]
  },
  {
   "cell_type": "code",
   "execution_count": 4,
   "metadata": {},
   "outputs": [
    {
     "data": {
      "text/plain": [
       "[<matplotlib.lines.Line2D at 0x1beb4630648>]"
      ]
     },
     "execution_count": 4,
     "metadata": {},
     "output_type": "execute_result"
    },
    {
     "data": {
      "image/png": "[encoded data removed]",
      "text/plain": [
       "<Figure size 432x288 with 1 Axes>"
      ]
     },
     "metadata": {
      "needs_background": "light"
     },
     "output_type": "display_data"
    }
   ],
   "source": [
    "import matplotlib.pyplot as plt\n",
    "\n",
    "def psi(x, M=1, a=1):\n",
    "    x = x ** 2\n",
    "\n",
    "    if x <= M:\n",
    "        return x\n",
    "\n",
    "    return M + M ** (1 + a) * (M ** (-a) - x ** (-a)) / a\n",
    "\n",
    "\n",
    "x = np.linspace(0,100,100)\n",
    "y = np.linspace(0,100,100)\n",
    "for i,xx in enumerate(x):\n",
    "    y[i] = psi(xx)\n",
    "    \n",
    "    \n",
    "plt.plot(x,y)"
   ]
  },
  {
   "cell_type": "code",
   "execution_count": 8,
   "metadata": {},
   "outputs": [],
   "source": [
    "sig = np.array([1,2,3,4,5,6,6,6,3,3,1])"
   ]
  },
  {
   "cell_type": "code",
   "execution_count": null,
   "metadata": {},
   "outputs": [],
   "source": [
    "def norm(x):\n",
    "    return np.linalg.norm(x)\n",
    "\n",
    "def phi(x, order):\n",
    "    x = np.array(x)\n",
    "\n",
    "    a = x ** 2\n",
    "    a[0] -= psi(norm(x))\n",
    "\n",
    "    f = lambda z: np.dot(a, [z ** (2 * m) for m in range(len(a))])\n",
    "\n",
    "    return brentq(f, 0, 5)\n",
    "\n",
    "def get_keys(dim, order):\n",
    "    s = tosig.sigkeys(dim, order)\n",
    "\n",
    "    tuples = []\n",
    "\n",
    "    for t in s.split():\n",
    "        if len(t) > 2:\n",
    "            t = t.replace(\")\", \",)\")\n",
    "\n",
    "        tuples.append(ast.literal_eval(t))\n",
    "\n",
    "    return tuples\n",
    "\n",
    "def Phi(X, order, normalise=True, compute_sigs=True):\n",
    "    if compute_sigs:\n",
    "        dim = np.shape(X)[1]\n",
    "        sig = tosig.stream2sig(np.array(X), order)\n",
    "    else:\n",
    "        dim = 2\n",
    "        sig = np.array(X)\n",
    "\n",
    "    if not normalise:\n",
    "        return sig\n",
    "\n",
    "    keys = get_keys(dim, order)\n",
    "\n",
    "    phi_x = phi(tuple(sig), order)\n",
    "    Lambda = np.array([phi_x ** len(t) for t in keys])\n",
    "    return Lambda * sig\n",
    "\n",
    "def T(set1, set2, order, verbose=True, normalise=True, compute_sigs=True):\n",
    "    m = len(set1)\n",
    "    n = len(set2)\n",
    "\n",
    "    X = Parallel(n_jobs=1)(delayed(Phi)(path, order, normalise, compute_sigs) for path in tqdm(set1, desc=\"Computing signatures of population 1\", disable=(not verbose)))\n",
    "    Y = Parallel(n_jobs=1)(delayed(Phi)(path, order, normalise, compute_sigs) for path in tqdm(set2, desc=\"Computing signatures of population 2\", disable=(not verbose)))\n",
    "\n",
    "    XX = np.dot(X, np.transpose(X))\n",
    "    YY = np.dot(Y, np.transpose(Y))\n",
    "    XY = np.dot(X, np.transpose(Y))\n",
    "\n",
    "    TU = 0.\n",
    "    TU += XX.sum() / (m * m)\n",
    "    TU += YY.sum() / (n * n)\n",
    "    TU -= 2 * XY.sum() / (m * n)\n",
    "\n",
    "\n",
    "    return TU\n",
    "\n",
    "def c_alpha(m, alpha):\n",
    "    K = 1.\n",
    "    return 4 * np.sqrt(-np.log(alpha) / m)\n",
    "    return (2 * K / m) * (1 + np.sqrt(-2 * np.log(alpha))) ** 2\n",
    "\n",
    "def test(set1, set2, order, confidence_level=0.99, **kwargs):\n",
    "    \"\"\"Statistical test to determine if two sets of paths come\n",
    "    from the same distribution.\n",
    "\n",
    "    The statistical test is based in the following paper:\n",
    "\n",
    "    Chevyrev, I. and Oberhauser, H., 2018. Signature moments to\n",
    "    characterize laws of stochastic processes. arXiv preprint\n",
    "    arXiv:1810.10971.\n",
    "\n",
    "\n",
    "    Parameters\n",
    "    ----------\n",
    "    set1 : list of array\n",
    "        Set of paths.\n",
    "    set2 : list of array\n",
    "        Set of paths.\n",
    "    order : int\n",
    "        Signature order.\n",
    "    confidence_level : float, optional\n",
    "        Confidence level of the statistical test. Must be in [0, 1].\n",
    "        Default is 0.99, i.e. 99%.\n",
    "\n",
    "    Returns\n",
    "    -------\n",
    "    bool\n",
    "        True if the hypothesis is rejected and hence the sets come from\n",
    "        different distributions, False otherwise.\n",
    "\n",
    "    \"\"\"\n",
    "\n",
    "    assert len(set1) == len(set2), \"Same size samples accepted for now.\"\n",
    "\n",
    "    assert confidence_level >= 0. and confidence_level <= 1., \"Confidence level must be in [0, 1].\"\n",
    "\n",
    "    m = len(set1)\n",
    "\n",
    "    TU = T(set1, set2, order, **kwargs)\n",
    "    c = c_alpha(m, confidence_level)\n",
    "    print('c:', c)\n",
    "    print('TU:', TU)\n",
    "\n",
    "    return TU > c\n"
   ]
  }
 ],
 "metadata": {
  "kernelspec": {
   "display_name": "Python 3",
   "language": "python",
   "name": "python3"
  },
  "language_info": {
   "codemirror_mode": {
    "name": "ipython",
    "version": 3
   },
   "file_extension": ".py",
   "mimetype": "text/x-python",
   "name": "python",
   "nbconvert_exporter": "python",
   "pygments_lexer": "ipython3",
   "version": "3.7.9"
  }
 },
 "nbformat": 4,
 "nbformat_minor": 4
}
