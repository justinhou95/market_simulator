{
 "cells": [
  {
   "cell_type": "code",
   "execution_count": 7,
   "metadata": {},
   "outputs": [
    {
     "ename": "ImportError",
     "evalue": "attempted relative import with no known parent package",
     "output_type": "error",
     "traceback": [
      "\u001b[1;31m---------------------------------------------------------------------------\u001b[0m",
      "\u001b[1;31mImportError\u001b[0m                               Traceback (most recent call last)",
      "\u001b[1;32m<ipython-input-7-5f5aea078130>\u001b[0m in \u001b[0;36m<module>\u001b[1;34m\u001b[0m\n\u001b[0;32m      4\u001b[0m \u001b[0msys\u001b[0m\u001b[1;33m.\u001b[0m\u001b[0mpath\u001b[0m\u001b[1;33m.\u001b[0m\u001b[0minsert\u001b[0m\u001b[1;33m(\u001b[0m\u001b[1;36m0\u001b[0m\u001b[1;33m,\u001b[0m \u001b[1;34m\"../src/utils\"\u001b[0m\u001b[1;33m)\u001b[0m\u001b[1;33m\u001b[0m\u001b[1;33m\u001b[0m\u001b[0m\n\u001b[0;32m      5\u001b[0m \u001b[1;33m\u001b[0m\u001b[0m\n\u001b[1;32m----> 6\u001b[1;33m \u001b[1;32mimport\u001b[0m \u001b[0mtosig\u001b[0m\u001b[1;33m\u001b[0m\u001b[1;33m\u001b[0m\u001b[0m\n\u001b[0m",
      "\u001b[1;32mC:\\SongyanHou\\Study\\Codes\\MASTER\\market_simulator\\src\\utils\\tosig.py\u001b[0m in \u001b[0;36m<module>\u001b[1;34m\u001b[0m\n\u001b[0;32m      3\u001b[0m \u001b[1;32mfrom\u001b[0m \u001b[0mesig\u001b[0m \u001b[1;32mimport\u001b[0m \u001b[0mtests\u001b[0m \u001b[1;32mas\u001b[0m \u001b[0mtests\u001b[0m\u001b[1;33m\u001b[0m\u001b[1;33m\u001b[0m\u001b[0m\n\u001b[0;32m      4\u001b[0m \u001b[1;32mimport\u001b[0m \u001b[0mnumpy\u001b[0m \u001b[1;32mas\u001b[0m \u001b[0mnp\u001b[0m\u001b[1;33m\u001b[0m\u001b[1;33m\u001b[0m\u001b[0m\n\u001b[1;32m----> 5\u001b[1;33m \u001b[1;32mfrom\u001b[0m \u001b[1;33m.\u001b[0m \u001b[1;32mimport\u001b[0m \u001b[0mtjl_dense_numpy_tensor\u001b[0m \u001b[1;32mas\u001b[0m \u001b[0mte\u001b[0m\u001b[1;33m\u001b[0m\u001b[1;33m\u001b[0m\u001b[0m\n\u001b[0m\u001b[0;32m      6\u001b[0m \u001b[1;32mfrom\u001b[0m \u001b[1;33m.\u001b[0m \u001b[1;32mimport\u001b[0m \u001b[0mtjl_hall_numpy_lie\u001b[0m \u001b[1;32mas\u001b[0m \u001b[0mli\u001b[0m\u001b[1;33m\u001b[0m\u001b[1;33m\u001b[0m\u001b[0m\n\u001b[0;32m      7\u001b[0m \u001b[1;33m\u001b[0m\u001b[0m\n",
      "\u001b[1;31mImportError\u001b[0m: attempted relative import with no known parent package"
     ]
    }
   ],
   "source": [
    "\n",
    "import numpy as np\n",
    "import sys\n",
    "sys.path.insert(0, \"../src/utils\")\n",
    "\n",
    "import tosig"
   ]
  },
  {
   "cell_type": "code",
   "execution_count": 6,
   "metadata": {},
   "outputs": [
    {
     "data": {
      "text/plain": [
       "['C:\\\\SongyanHou\\\\Study\\\\Codes\\\\MASTER\\\\market_simulator\\\\src\\\\utils',\n",
       " 'C:\\\\SongyanHou\\\\Programs\\\\Anaconda\\\\envs\\\\gpflow2\\\\python38.zip',\n",
       " 'C:\\\\SongyanHou\\\\Programs\\\\Anaconda\\\\envs\\\\gpflow2\\\\DLLs',\n",
       " 'C:\\\\SongyanHou\\\\Programs\\\\Anaconda\\\\envs\\\\gpflow2\\\\lib',\n",
       " 'C:\\\\SongyanHou\\\\Programs\\\\Anaconda\\\\envs\\\\gpflow2',\n",
       " '',\n",
       " 'C:\\\\SongyanHou\\\\Programs\\\\Anaconda\\\\envs\\\\gpflow2\\\\lib\\\\site-packages',\n",
       " 'C:\\\\SongyanHou\\\\Programs\\\\Anaconda\\\\envs\\\\gpflow2\\\\lib\\\\site-packages\\\\win32',\n",
       " 'C:\\\\SongyanHou\\\\Programs\\\\Anaconda\\\\envs\\\\gpflow2\\\\lib\\\\site-packages\\\\win32\\\\lib',\n",
       " 'C:\\\\SongyanHou\\\\Programs\\\\Anaconda\\\\envs\\\\gpflow2\\\\lib\\\\site-packages\\\\Pythonwin',\n",
       " 'C:\\\\SongyanHou\\\\Programs\\\\Anaconda\\\\envs\\\\gpflow2\\\\lib\\\\site-packages\\\\IPython\\\\extensions',\n",
       " 'C:\\\\Users\\\\Justin Hou\\\\.ipython']"
      ]
     },
     "execution_count": 6,
     "metadata": {},
     "output_type": "execute_result"
    }
   ],
   "source": [
    "sys.path"
   ]
  }
 ],
 "metadata": {
  "kernelspec": {
   "display_name": "Python [conda env:gpflow2] *",
   "language": "python",
   "name": "conda-env-gpflow2-py"
  },
  "language_info": {
   "codemirror_mode": {
    "name": "ipython",
    "version": 3
   },
   "file_extension": ".py",
   "mimetype": "text/x-python",
   "name": "python",
   "nbconvert_exporter": "python",
   "pygments_lexer": "ipython3",
   "version": "3.8.5"
  }
 },
 "nbformat": 4,
 "nbformat_minor": 4
}
