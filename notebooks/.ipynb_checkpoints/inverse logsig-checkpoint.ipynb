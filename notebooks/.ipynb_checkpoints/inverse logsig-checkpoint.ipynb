{
 "cells": [
  {
   "cell_type": "code",
   "execution_count": 1,
   "metadata": {},
   "outputs": [],
   "source": [
    "import numpy as np\n",
    "import matplotlib.pyplot as plt\n",
    "import torch\n",
    "import signatory\n",
    "import base\n",
    "import neural_inverse\n",
    "from importlib import reload\n",
    "import time as timing"
   ]
  },
  {
   "cell_type": "markdown",
   "metadata": {},
   "source": [
    "## Learn the inverse of log-signature (pytorch)"
   ]
  },
  {
   "cell_type": "code",
   "execution_count": null,
   "metadata": {},
   "outputs": [
    {
     "name": "stdout",
     "output_type": "stream",
     "text": [
      "step:  0 loss:  1.4393459782004356\n"
     ]
    }
   ],
   "source": [
    "reload(neural_inverse)\n",
    "N = 20\n",
    "batch = 1000\n",
    "order = 5\n",
    "path = neural_inverse.generate_bmpath(batch, N)\n",
    "start_time = timing.time()\n",
    "y_recover, logsig_recover, net = neural_inverse.inverse_multiple_path(path, order)\n",
    "end_time = timing.time()\n",
    "print(\"Duration: {}\".format(end_time - start_time))"
   ]
  },
  {
   "cell_type": "markdown",
   "metadata": {},
   "source": [
    "## Reverse a single path"
   ]
  },
  {
   "cell_type": "code",
   "execution_count": null,
   "metadata": {},
   "outputs": [],
   "source": [
    "import time as timing\n",
    "N = 20\n",
    "sigma = 1\n",
    "pathBM = neural_inverse.generate_bmpath(1, N)\n",
    "time = np.linspace(0,1,N+1)\n",
    "path0 = np.exp(sigma * pathBM - 0.5*sigma**2*time[None,:,None])\n",
    "logsig0 = signatory.logsignature(neural_inverse.leadlag(torch.tensor(path0)[:,:,0]), order)\n",
    "\n",
    "start_time = timing.time()\n",
    "net0, y_recover0, logsig_recover0 = neural_inverse.inverse_single_path(path0, order)\n",
    "end_time = timing.time()\n",
    "print(\"Duration: {}\".format(end_time - start_time))"
   ]
  },
  {
   "cell_type": "markdown",
   "metadata": {},
   "source": [
    "## Compare with evolution algorithm\n",
    "comparison is conducted on two aspects\n",
    "1. recovered path \n",
    "2. hedging performance with the recovered path"
   ]
  },
  {
   "cell_type": "code",
   "execution_count": null,
   "metadata": {},
   "outputs": [],
   "source": [
    "import base\n",
    "import logsig_inversion\n",
    "pip = 0.01\n",
    "n_pips = 10\n",
    "n_points = N+1\n",
    "order = 5\n",
    "n_iterations = 100\n",
    "n_organisms = 1000\n",
    "\n",
    "start_time = timing.time()\n",
    "y_recover1, loss = logsig_inversion.train(logsig0.numpy()[0], order, n_iterations, n_organisms, n_points, pip, n_pips)\n",
    "y_recover1 = y_recover1 + path0[0,0,0]\n",
    "end_time = timing.time()\n",
    "print(\"Duration: {}\".format(end_time - start_time))"
   ]
  },
  {
   "cell_type": "code",
   "execution_count": null,
   "metadata": {},
   "outputs": [],
   "source": [
    "import hedge\n",
    "reload(hedge)\n",
    "K = 1\n",
    "V_recover0, V_recover1 = hedge.delta_comapre(K,sigma,time,path0,y_recover0,y_recover1)\n",
    "\n",
    "logsig_recover1 = signatory.logsignature(neural_inverse.leadlag(torch.tensor(y_recover1)[None,:]), order)\n",
    "XX = torch.tensor(X0, dtype = torch.float)\n",
    "print('True log signature: \\n', XX[0])\n",
    "print('Neural log signature: \\n', logsig_recover0[0])\n",
    "print('Evolution log signature: \\n', logsig_recover1[0])"
   ]
  }
 ],
 "metadata": {
  "kernelspec": {
   "display_name": "Python [conda env:gpflow2]",
   "language": "python",
   "name": "conda-env-gpflow2-py"
  },
  "language_info": {
   "codemirror_mode": {
    "name": "ipython",
    "version": 3
   },
   "file_extension": ".py",
   "mimetype": "text/x-python",
   "name": "python",
   "nbconvert_exporter": "python",
   "pygments_lexer": "ipython3",
   "version": "3.8.5"
  }
 },
 "nbformat": 4,
 "nbformat_minor": 4
}
