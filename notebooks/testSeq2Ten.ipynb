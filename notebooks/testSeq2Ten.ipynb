{
 "cells": [
  {
   "cell_type": "code",
   "execution_count": 1,
   "metadata": {},
   "outputs": [],
   "source": [
    "import tensorflow as tf\n",
    "import numpy as np\n",
    "import signatory\n",
    "import base\n",
    "import Sig_method"
   ]
  },
  {
   "cell_type": "code",
   "execution_count": 9,
   "metadata": {},
   "outputs": [],
   "source": [
    "sig = low_rank_seq2tens(sequences, kernel, num_levels, embedding_order,\\\n",
    "                      recursive_weights, bias, reverse, return_sequences, mask)[0]\n",
    "sig = tf.reduce_sum(sig,axis = 1)"
   ]
  },
  {
   "cell_type": "code",
   "execution_count": 10,
   "metadata": {},
   "outputs": [],
   "source": [
    "sequence2 = tf.cumsum(sequences,axis = 1)\n",
    "sequence2 = tf.concat([tf.zeros([1,1,2],dtype = 'float64'),sequence2],axis = 1)\n",
    "sequence2 = sequence2[0].numpy()\n",
    "sig2 = Sig_method.sig_stream2(sequence2,num_levels)[0].numpy()\n",
    "sig2 = tf.constant(sig2,dtype = 'float64')\n",
    "sig2 = sig2[1:,1:]"
   ]
  },
  {
   "cell_type": "code",
   "execution_count": 11,
   "metadata": {},
   "outputs": [
    {
     "data": {
      "text/plain": [
       "<tf.Tensor: shape=(10, 14), dtype=float64, numpy=\n",
       "array([[ 0.00000000e+00,  0.00000000e+00,  0.00000000e+00,\n",
       "         0.00000000e+00,  0.00000000e+00,  0.00000000e+00,\n",
       "         0.00000000e+00,  0.00000000e+00,  0.00000000e+00,\n",
       "         0.00000000e+00,  0.00000000e+00,  0.00000000e+00,\n",
       "         0.00000000e+00,  0.00000000e+00],\n",
       "       [ 0.00000000e+00,  0.00000000e+00,  0.00000000e+00,\n",
       "         0.00000000e+00,  0.00000000e+00,  0.00000000e+00,\n",
       "         0.00000000e+00,  0.00000000e+00,  0.00000000e+00,\n",
       "         0.00000000e+00,  0.00000000e+00,  0.00000000e+00,\n",
       "         0.00000000e+00,  0.00000000e+00],\n",
       "       [ 0.00000000e+00,  0.00000000e+00,  5.55111512e-17,\n",
       "         0.00000000e+00, -2.22044605e-16,  0.00000000e+00,\n",
       "        -1.73472348e-18,  0.00000000e+00, -3.46944695e-18,\n",
       "         0.00000000e+00,  5.55111512e-17,  0.00000000e+00,\n",
       "         1.11022302e-16,  0.00000000e+00],\n",
       "       [ 0.00000000e+00,  0.00000000e+00,  0.00000000e+00,\n",
       "         0.00000000e+00, -2.22044605e-16,  0.00000000e+00,\n",
       "         5.55111512e-17, -6.93889390e-18,  0.00000000e+00,\n",
       "         0.00000000e+00, -2.22044605e-16,  0.00000000e+00,\n",
       "         0.00000000e+00,  0.00000000e+00],\n",
       "       [ 0.00000000e+00,  0.00000000e+00,  0.00000000e+00,\n",
       "         0.00000000e+00, -2.22044605e-16,  0.00000000e+00,\n",
       "         0.00000000e+00,  0.00000000e+00,  0.00000000e+00,\n",
       "         0.00000000e+00,  2.22044605e-16,  8.88178420e-16,\n",
       "         0.00000000e+00,  0.00000000e+00],\n",
       "       [ 0.00000000e+00,  0.00000000e+00,  0.00000000e+00,\n",
       "         0.00000000e+00, -4.44089210e-16,  0.00000000e+00,\n",
       "         0.00000000e+00,  0.00000000e+00,  0.00000000e+00,\n",
       "         0.00000000e+00,  0.00000000e+00,  1.33226763e-15,\n",
       "         0.00000000e+00,  0.00000000e+00],\n",
       "       [ 0.00000000e+00,  0.00000000e+00,  0.00000000e+00,\n",
       "         0.00000000e+00, -4.44089210e-16,  2.22044605e-16,\n",
       "         0.00000000e+00,  4.44089210e-16,  0.00000000e+00,\n",
       "        -1.11022302e-16,  0.00000000e+00,  1.77635684e-15,\n",
       "         0.00000000e+00,  0.00000000e+00],\n",
       "       [ 0.00000000e+00,  0.00000000e+00,  0.00000000e+00,\n",
       "         0.00000000e+00, -4.44089210e-16,  4.44089210e-16,\n",
       "         0.00000000e+00,  4.44089210e-16,  0.00000000e+00,\n",
       "        -2.22044605e-16,  4.44089210e-16,  1.77635684e-15,\n",
       "        -2.22044605e-16,  0.00000000e+00],\n",
       "       [ 0.00000000e+00,  0.00000000e+00,  0.00000000e+00,\n",
       "         0.00000000e+00, -4.44089210e-16,  8.88178420e-16,\n",
       "         0.00000000e+00,  4.44089210e-16,  0.00000000e+00,\n",
       "        -4.44089210e-16,  4.44089210e-16,  1.33226763e-15,\n",
       "        -2.22044605e-16,  4.44089210e-16],\n",
       "       [ 0.00000000e+00,  0.00000000e+00,  0.00000000e+00,\n",
       "         0.00000000e+00, -4.44089210e-16,  8.88178420e-16,\n",
       "         0.00000000e+00,  4.44089210e-16,  0.00000000e+00,\n",
       "        -4.44089210e-16,  8.88178420e-16,  1.77635684e-15,\n",
       "        -6.66133815e-16, -1.77635684e-15]])>"
      ]
     },
     "execution_count": 11,
     "metadata": {},
     "output_type": "execute_result"
    }
   ],
   "source": [
    "sig2 - sig"
   ]
  },
  {
   "cell_type": "code",
   "execution_count": 5,
   "metadata": {},
   "outputs": [],
   "source": [
    "\n",
    "    \n",
    "\n",
    "\n",
    "\n",
    "\n",
    "def low_rank_seq2tens(sequences, kernel, num_levels, embedding_order=1,\\\n",
    "                      recursive_weights=False, bias=None, reverse=False, return_sequences=False, mask=None):\n",
    "    \"\"\"\n",
    "    Tensorflow implementation of the Low-rank Seq2Tens (LS2T) map\n",
    "    --------------------------------------------------\n",
    "    Args\n",
    "    ----\n",
    "    :sequences: - a tensor of sequences of shape (num_examples, len_examples, num_features)\n",
    "    :kernel: - a tensor of component vectors of rank-1 weight tensors of shape (num_components, num_features, num_functionals)\n",
    "    :num_levels: - an int scalar denoting the cutoff degree in the features themselves (must be consistent with the 'num_components' dimension of 'kernel')\n",
    "    :embedding_order: - an int scalar denoting the cutoff degree in the algebraic embedding\n",
    "    :recursive_weights: - whether the rank-1 weight twensors are contructed in a recursive way (must be consistent with the shape of 'kernel')\n",
    "    :bias: - a tensor of biases of shape (num_components, num_functionals)\n",
    "    :reverse: - only changes the results with 'return_sequences=True', determines whether the output sequences are constructed by moving the starting point or ending point of subsequences\n",
    "    \"\"\"\n",
    "    \n",
    "    num_sequences, len_sequences, num_features = tf.unstack(tf.shape(sequences))\n",
    "\n",
    "    num_components = int(num_levels * (num_levels+1) / 2.) if not recursive_weights else num_levels\n",
    "    \n",
    "    num_functionals = tf.shape(kernel)[-1]\n",
    "        \n",
    "    M = tf.matmul(tf.reshape(sequences, [1, -1, num_features]), kernel)\n",
    "        \n",
    "    M = tf.reshape(M, [num_components, num_sequences, len_sequences, num_functionals])\n",
    "    \n",
    "    if bias is not None:\n",
    "        M += bias[:, None, None, :]\n",
    "    \n",
    "    if mask is not None:\n",
    "        M = tf.where(mask[None, :, :, None], M, tf.zeros_like(M))\n",
    "\n",
    "    if embedding_order == 1:\n",
    "        if recursive_weights:\n",
    "            return _low_rank_seq2tens_first_order_embedding_recursive_weights(M, num_levels, reverse=reverse, return_sequences=return_sequences)\n",
    "        else:\n",
    "            return _low_rank_seq2tens_first_order_embedding_indep_weights(M, num_levels, reverse=reverse, return_sequences=return_sequences)\n",
    "    else:\n",
    "        if recursive_weights:\n",
    "            return _low_rank_seq2tens_higher_order_embedding_recursive_weights(M, num_levels, embedding_order, reverse=reverse, return_sequences=return_sequences)\n",
    "        else:\n",
    "            return _low_rank_seq2tens_higher_order_embedding_indep_weights(M, num_levels, embedding_order, reverse=reverse, return_sequences=return_sequences)\n"
   ]
  },
  {
   "cell_type": "code",
   "execution_count": 6,
   "metadata": {},
   "outputs": [],
   "source": [
    "def _low_rank_seq2tens_first_order_embedding_recursive_weights(M, num_levels, reverse=False, return_sequences=False):\n",
    "    \n",
    "    if return_sequences:\n",
    "        Y = [tf.cumsum(M[0], reverse=reverse, axis=1)]\n",
    "    else:\n",
    "        Y = [tf.reduce_sum(M[0], axis=1)]\n",
    "\n",
    "    R = M[0]\n",
    "    for m in range(1, num_levels):\n",
    "        R = M[m] * tf.cumsum(R, exclusive=True, reverse=reverse, axis=1)\n",
    "        \n",
    "        if return_sequences:\n",
    "            Y.append(tf.cumsum(R, reverse=reverse, axis=1))\n",
    "        else:\n",
    "            Y.append(tf.reduce_sum(R, axis=1))\n",
    "\n",
    "    return tf.stack(Y, axis=-2)\n",
    "    \n"
   ]
  },
  {
   "cell_type": "code",
   "execution_count": 7,
   "metadata": {},
   "outputs": [],
   "source": [
    "def _low_rank_seq2tens_first_order_embedding_indep_weights(M, num_levels, reverse=False, return_sequences=False):\n",
    "    \n",
    "    if return_sequences:\n",
    "        Y = [tf.cumsum(M[0], reverse=reverse, axis=1)]\n",
    "    else:\n",
    "        Y = [tf.reduce_sum(M[0], axis=1)]\n",
    "\n",
    "    k = 1\n",
    "    for m in range(1, num_levels):\n",
    "        R = M[k]\n",
    "        k += 1\n",
    "        for i in range(1, m+1):\n",
    "            R = M[k] *  tf.cumsum(R, exclusive=True, reverse=reverse, axis=1)\n",
    "            k += 1\n",
    "        if return_sequences:\n",
    "            Y.append(tf.cumsum(R, reverse=reverse, axis=1))\n",
    "        else:\n",
    "            Y.append(tf.reduce_sum(R, axis=1))\n",
    "    \n",
    "    return tf.stack(Y, axis=-2)"
   ]
  },
  {
   "cell_type": "code",
   "execution_count": null,
   "metadata": {},
   "outputs": [],
   "source": []
  },
  {
   "cell_type": "code",
   "execution_count": null,
   "metadata": {},
   "outputs": [],
   "source": []
  }
 ],
 "metadata": {
  "kernelspec": {
   "display_name": "Python [conda env:gpflow2] *",
   "language": "python",
   "name": "conda-env-gpflow2-py"
  },
  "language_info": {
   "codemirror_mode": {
    "name": "ipython",
    "version": 3
   },
   "file_extension": ".py",
   "mimetype": "text/x-python",
   "name": "python",
   "nbconvert_exporter": "python",
   "pygments_lexer": "ipython3",
   "version": "3.8.5"
  }
 },
 "nbformat": 4,
 "nbformat_minor": 4
}
