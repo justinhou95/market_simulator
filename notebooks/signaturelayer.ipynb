{
 "cells": [
  {
   "cell_type": "code",
   "execution_count": 1,
   "metadata": {},
   "outputs": [],
   "source": [
    "%matplotlib inline\n",
    "# %matplotlib qt\n",
    "import base\n",
    "import numpy as np\n",
    "import scipy as sp\n",
    "from scipy.linalg import expm\n",
    "from matplotlib import pyplot as plt\n",
    "from importlib import reload\n",
    "import torch\n",
    "torch.set_default_dtype(torch.float64)\n",
    "import signatory\n",
    "import tensorflow as tf\n",
    "tfk = tf.keras\n",
    "tfkl = tf.keras.layers\n",
    "tf.keras.backend.set_floatx('float64')\n",
    "import Sig_method"
   ]
  },
  {
   "cell_type": "code",
   "execution_count": 2,
   "metadata": {},
   "outputs": [],
   "source": [
    "class SigBag:\n",
    "    def __init__(self, channels, depth):\n",
    "        self.channels = channels\n",
    "        self.depth = depth\n",
    "        self.index2word = self.index_to_word_aug()\n",
    "        self.word2index = self.word_to_index_aug()\n",
    "        self.sig_dim = len(self.index2word)\n",
    "        self.table = self.sig_table()\n",
    "    def index_to_word_aug(self):\n",
    "        index2word = [()] + signatory.all_words(self.channels, self.depth)\n",
    "        return index2word\n",
    "    def word_to_index_aug(self):\n",
    "        word2index = {}\n",
    "        for i,word in enumerate(self.index2word):\n",
    "            word2index.update({word: i})\n",
    "        return word2index\n",
    "    def sig_table(self):\n",
    "        table = [[]]*self.sig_dim\n",
    "        for i in range(self.sig_dim):\n",
    "            for j in range(self.sig_dim):\n",
    "                word = self.index2word[i] + self.index2word[j]\n",
    "                if len(word) < self.depth + 1:\n",
    "                    index = self.word2index[word]\n",
    "                    table[index] = table[index] + [(i,j)]\n",
    "        return table\n",
    "    def product(self,a,b):\n",
    "        c = tf.tensordot(a, b, axes=0)\n",
    "        d = tf.zeros(self.sig_dim, dtype = 'float64')\n",
    "        for i in range(self.sig_dim):\n",
    "            for pair in self.table[i]:\n",
    "                helper = np.zeros([self.sig_dim])\n",
    "                helper[i] = 1\n",
    "                helper = tf.constant(helper, dtype = 'float64')\n",
    "                d = d + c[pair] * helper\n",
    "        return d\n",
    "    def stream(self,path):    \n",
    "        ' path has shape (length, sig_dim)'\n",
    "        length = path.shape[0]\n",
    "        old = path[:1,:]\n",
    "        for i in range(length-1):\n",
    "            new = path[i+1,:]\n",
    "            product = self.product(old[-1],new)\n",
    "            old = tf.concat([old,product[None,:]], axis = 0)\n",
    "        return old"
   ]
  },
  {
   "cell_type": "code",
   "execution_count": 3,
   "metadata": {},
   "outputs": [],
   "source": [
    "class Layer_Sig(tf.keras.layers.Layer):\n",
    "    def __init__(self, channels, length, depth):\n",
    "        super(Layer_Sig, self).__init__()\n",
    "        self.channels = channels\n",
    "        self.length = length\n",
    "        self.depth = depth\n",
    "        self.sigbag = SigBag(channels, depth)\n",
    "    def call(self, inputs):\n",
    "        inputs_shape = tf.shape(inputs)\n",
    "        batch_size = inputs_shape[0]\n",
    "        \n",
    "        path = inputs\n",
    "        sig_path_split = path[:,1:,:] - path[:,:-1,:]\n",
    "        \n",
    "        helper = tf.zeros(shape = [batch_size, 1, self.channels], dtype = 'float64')\n",
    "        sig_path_split = tf.concat([helper,sig_path_split],axis = 1)\n",
    "        helper = tf.ones(shape = [batch_size, self.length, 1], dtype = 'float64')\n",
    "        sig_path_split = tf.concat([helper,sig_path_split],axis = -1)\n",
    "        helper = tf.zeros(shape = [batch_size, self.length, self.sigbag.sig_dim - self.channels - 1], dtype = 'float64')\n",
    "        sig_path_split = tf.concat([sig_path_split,helper],axis = -1)\n",
    "        \n",
    "        helper = tf.zeros_like(sig_path_split[:1,:,:])\n",
    "        old = self.sigbag.stream(sig_path_split[0,:,:])\n",
    "        old = old + helper\n",
    "        for i in range(batch_size-1):\n",
    "            new= self.sigbag.stream(sig_path_split[i+1,:,:])\n",
    "            new = new + helper\n",
    "            old = tf.concat([old,new],axis = 0 )\n",
    "        return old\n"
   ]
  },
  {
   "cell_type": "code",
   "execution_count": 4,
   "metadata": {},
   "outputs": [
    {
     "data": {
      "text/plain": [
       "0.0"
      ]
     },
     "execution_count": 4,
     "metadata": {},
     "output_type": "execute_result"
    }
   ],
   "source": [
    "batch = 5\n",
    "length = 10\n",
    "channels = 2 \n",
    "depth = 3   \n",
    "path = np.random.normal(size = [batch,length,channels])\n",
    "path_tf = tf.convert_to_tensor(path)\n",
    "layer_sig = Layer_Sig(channels, length, depth)\n",
    "sig_stream1 = layer_sig(path_tf)\n",
    "sig_stream2 = torch.cat([Sig_method.sig_stream2(path[i],depth) for i in range(batch)],axis = 0)\n",
    "np.max(np.abs( sig_stream2.numpy() - sig_stream1.numpy() ))"
   ]
  },
  {
   "cell_type": "code",
   "execution_count": 5,
   "metadata": {},
   "outputs": [
    {
     "data": {
      "text/plain": [
       "<KerasTensor: shape=(None, 10, 15) dtype=float64 (created by layer 'layer__sig_1')>"
      ]
     },
     "execution_count": 5,
     "metadata": {},
     "output_type": "execute_result"
    }
   ],
   "source": [
    "inputs = tf.keras.Input(shape=(length,channels))\n",
    "layer_sig = Layer_Sig(channels, length, depth)\n",
    "layer_sig(inputs)"
   ]
  }
 ],
 "metadata": {
  "kernelspec": {
   "display_name": "Python [conda env:gpflow2] *",
   "language": "python",
   "name": "conda-env-gpflow2-py"
  },
  "language_info": {
   "codemirror_mode": {
    "name": "ipython",
    "version": 3
   },
   "file_extension": ".py",
   "mimetype": "text/x-python",
   "name": "python",
   "nbconvert_exporter": "python",
   "pygments_lexer": "ipython3",
   "version": "3.8.5"
  }
 },
 "nbformat": 4,
 "nbformat_minor": 4
}
