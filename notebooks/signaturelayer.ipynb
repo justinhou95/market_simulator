{
 "cells": [
  {
   "cell_type": "code",
   "execution_count": 1,
   "metadata": {},
   "outputs": [],
   "source": [
    "%matplotlib inline\n",
    "# %matplotlib qt\n",
    "import base\n",
    "import numpy as np\n",
    "import scipy as sp\n",
    "from scipy.linalg import expm\n",
    "from matplotlib import pyplot as plt\n",
    "from importlib import reload\n",
    "import torch\n",
    "torch.set_default_dtype(torch.float64)\n",
    "import signatory\n",
    "import tensorflow as tf\n",
    "tfk = tf.keras\n",
    "tfkl = tf.keras.layers\n",
    "tf.keras.backend.set_floatx('float64')\n",
    "import Sig_method"
   ]
  },
  {
   "cell_type": "code",
   "execution_count": 2,
   "metadata": {},
   "outputs": [],
   "source": [
    "class SigBag:\n",
    "    def __init__(self, channels, depth):\n",
    "        self.channels = channels\n",
    "        self.depth = depth\n",
    "        self.index2word = self.index_to_word_aug()\n",
    "        self.word2index = self.word_to_index_aug()\n",
    "        self.sig_dim = len(self.index2word)\n",
    "        self.table = self.sig_table()\n",
    "    def index_to_word_aug(self):\n",
    "        index2word = [()] + signatory.all_words(self.channels, self.depth)\n",
    "        return index2word\n",
    "    def word_to_index_aug(self):\n",
    "        word2index = {}\n",
    "        for i,word in enumerate(self.index2word):\n",
    "            word2index.update({word: i})\n",
    "        return word2index\n",
    "    def sig_table(self):\n",
    "        table = [[]]*self.sig_dim\n",
    "        for i in range(self.sig_dim):\n",
    "            for j in range(self.sig_dim):\n",
    "                word = self.index2word[i] + self.index2word[j]\n",
    "                if len(word) < self.depth + 1:\n",
    "                    index = self.word2index[word]\n",
    "                    table[index] = table[index] + [(i,j)]\n",
    "        return table\n",
    "    def product(self,a,b):\n",
    "        c = tf.tensordot(a, b, axes=0)\n",
    "        d = tf.zeros(self.sig_dim, dtype = 'float64')\n",
    "        for i in range(self.sig_dim):\n",
    "            for pair in self.table[i]:\n",
    "                helper = np.zeros([self.sig_dim])\n",
    "                helper[i] = 1\n",
    "                helper = tf.constant(helper, dtype = 'float64')\n",
    "                d = d + c[pair] * helper\n",
    "        return d"
   ]
  },
  {
   "cell_type": "code",
   "execution_count": 5,
   "metadata": {},
   "outputs": [],
   "source": [
    "class Layer_Sig(tf.keras.layers.Layer):\n",
    "    def __init__(self, channels, depth):\n",
    "        super(Layer_Sig, self).__init__()\n",
    "        self.channels = channels\n",
    "        self.depth = depth\n",
    "        self.sigbag = SigBag(channels, depth)\n",
    "    def call(self, inputs):\n",
    "        path = inputs\n",
    "        batch, length, _ = path.shape\n",
    "        sig_path_split = path[:,1:,:] - path[:,:-1,:]\n",
    "        helper = tf.zeros(shape = [batch, 1, self.channels], dtype = 'float64')\n",
    "        sig_path_split = tf.concat([helper,sig_path_split],axis = 1)\n",
    "        helper = tf.ones(shape = [batch, length, 1], dtype = 'float64')\n",
    "        sig_path_split = tf.concat([helper,sig_path_split],axis = -1)\n",
    "        helper = tf.zeros(shape = [batch, length, self.sigbag.sig_dim - self.channels - 1], dtype = 'float64')\n",
    "        sig_path_split = tf.concat([sig_path_split,helper],axis = -1)\n",
    "        all_stream = []\n",
    "        for i in range(batch):\n",
    "            old = sig_path_split[i,0,:]\n",
    "            stream = [old]\n",
    "            for j in range(length-1):\n",
    "                new = sig_path_split[i,j+1,:]\n",
    "                old = self.sigbag.product(old,new)\n",
    "                stream = stream + [old]\n",
    "            stream = tf.stack(stream)\n",
    "            all_stream = all_stream + [stream]\n",
    "        sig_stream = tf.stack(all_stream)\n",
    "        return sig_stream\n"
   ]
  },
  {
   "cell_type": "code",
   "execution_count": 11,
   "metadata": {},
   "outputs": [
    {
     "data": {
      "text/plain": [
       "array([[[0., 0., 0., 0., 0., 0., 0., 0., 0., 0., 0., 0., 0., 0., 0.],\n",
       "        [0., 0., 0., 0., 0., 0., 0., 0., 0., 0., 0., 0., 0., 0., 0.],\n",
       "        [0., 0., 0., 0., 0., 0., 0., 0., 0., 0., 0., 0., 0., 0., 0.],\n",
       "        [0., 0., 0., 0., 0., 0., 0., 0., 0., 0., 0., 0., 0., 0., 0.],\n",
       "        [0., 0., 0., 0., 0., 0., 0., 0., 0., 0., 0., 0., 0., 0., 0.],\n",
       "        [0., 0., 0., 0., 0., 0., 0., 0., 0., 0., 0., 0., 0., 0., 0.],\n",
       "        [0., 0., 0., 0., 0., 0., 0., 0., 0., 0., 0., 0., 0., 0., 0.],\n",
       "        [0., 0., 0., 0., 0., 0., 0., 0., 0., 0., 0., 0., 0., 0., 0.],\n",
       "        [0., 0., 0., 0., 0., 0., 0., 0., 0., 0., 0., 0., 0., 0., 0.],\n",
       "        [0., 0., 0., 0., 0., 0., 0., 0., 0., 0., 0., 0., 0., 0., 0.]]])"
      ]
     },
     "execution_count": 11,
     "metadata": {},
     "output_type": "execute_result"
    }
   ],
   "source": [
    "batch = 1\n",
    "length = 10\n",
    "channels = 2 \n",
    "depth = 3   \n",
    "path = np.random.normal(size = [batch,length,channels])\n",
    "path_tf = tf.convert_to_tensor(path)\n",
    "\n",
    "layer_sig = Layer_Sig(channels, depth)\n",
    "sig_stream = layer_sig(path_tf)\n",
    "\n",
    "sig_stream2 = Sig_method.sig_stream2(path[0],depth)\n",
    "\n",
    "sig_stream2.numpy() - sig_stream.numpy()"
   ]
  }
 ],
 "metadata": {
  "kernelspec": {
   "display_name": "Python [conda env:gpflow2] *",
   "language": "python",
   "name": "conda-env-gpflow2-py"
  },
  "language_info": {
   "codemirror_mode": {
    "name": "ipython",
    "version": 3
   },
   "file_extension": ".py",
   "mimetype": "text/x-python",
   "name": "python",
   "nbconvert_exporter": "python",
   "pygments_lexer": "ipython3",
   "version": "3.8.5"
  }
 },
 "nbformat": 4,
 "nbformat_minor": 4
}
